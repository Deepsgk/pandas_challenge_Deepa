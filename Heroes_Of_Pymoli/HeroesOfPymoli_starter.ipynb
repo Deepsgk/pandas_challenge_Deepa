{
 "cells": [
  {
   "cell_type": "code",
   "execution_count": 4,
   "metadata": {
    "scrolled": true
   },
   "outputs": [
    {
     "data": {
      "text/html": [
       "<style type=\"text/css\">\n",
       "</style>\n",
       "<table id=\"T_ea239_\">\n",
       "  <thead>\n",
       "    <tr>\n",
       "      <th class=\"blank level0\" >&nbsp;</th>\n",
       "      <th class=\"col_heading level0 col0\" >Purchase ID</th>\n",
       "      <th class=\"col_heading level0 col1\" >SN</th>\n",
       "      <th class=\"col_heading level0 col2\" >Age</th>\n",
       "      <th class=\"col_heading level0 col3\" >Gender</th>\n",
       "      <th class=\"col_heading level0 col4\" >Item ID</th>\n",
       "      <th class=\"col_heading level0 col5\" >Item Name</th>\n",
       "      <th class=\"col_heading level0 col6\" >Price</th>\n",
       "    </tr>\n",
       "  </thead>\n",
       "  <tbody>\n",
       "    <tr>\n",
       "      <th id=\"T_ea239_level0_row0\" class=\"row_heading level0 row0\" >0</th>\n",
       "      <td id=\"T_ea239_row0_col0\" class=\"data row0 col0\" >0</td>\n",
       "      <td id=\"T_ea239_row0_col1\" class=\"data row0 col1\" >Lisim78</td>\n",
       "      <td id=\"T_ea239_row0_col2\" class=\"data row0 col2\" >20</td>\n",
       "      <td id=\"T_ea239_row0_col3\" class=\"data row0 col3\" >Male</td>\n",
       "      <td id=\"T_ea239_row0_col4\" class=\"data row0 col4\" >108</td>\n",
       "      <td id=\"T_ea239_row0_col5\" class=\"data row0 col5\" >Extraction, Quickblade Of Trembling Hands</td>\n",
       "      <td id=\"T_ea239_row0_col6\" class=\"data row0 col6\" >$3.53</td>\n",
       "    </tr>\n",
       "    <tr>\n",
       "      <th id=\"T_ea239_level0_row1\" class=\"row_heading level0 row1\" >1</th>\n",
       "      <td id=\"T_ea239_row1_col0\" class=\"data row1 col0\" >1</td>\n",
       "      <td id=\"T_ea239_row1_col1\" class=\"data row1 col1\" >Lisovynya38</td>\n",
       "      <td id=\"T_ea239_row1_col2\" class=\"data row1 col2\" >40</td>\n",
       "      <td id=\"T_ea239_row1_col3\" class=\"data row1 col3\" >Male</td>\n",
       "      <td id=\"T_ea239_row1_col4\" class=\"data row1 col4\" >143</td>\n",
       "      <td id=\"T_ea239_row1_col5\" class=\"data row1 col5\" >Frenzied Scimitar</td>\n",
       "      <td id=\"T_ea239_row1_col6\" class=\"data row1 col6\" >$1.56</td>\n",
       "    </tr>\n",
       "    <tr>\n",
       "      <th id=\"T_ea239_level0_row2\" class=\"row_heading level0 row2\" >2</th>\n",
       "      <td id=\"T_ea239_row2_col0\" class=\"data row2 col0\" >2</td>\n",
       "      <td id=\"T_ea239_row2_col1\" class=\"data row2 col1\" >Ithergue48</td>\n",
       "      <td id=\"T_ea239_row2_col2\" class=\"data row2 col2\" >24</td>\n",
       "      <td id=\"T_ea239_row2_col3\" class=\"data row2 col3\" >Male</td>\n",
       "      <td id=\"T_ea239_row2_col4\" class=\"data row2 col4\" >92</td>\n",
       "      <td id=\"T_ea239_row2_col5\" class=\"data row2 col5\" >Final Critic</td>\n",
       "      <td id=\"T_ea239_row2_col6\" class=\"data row2 col6\" >$4.88</td>\n",
       "    </tr>\n",
       "    <tr>\n",
       "      <th id=\"T_ea239_level0_row3\" class=\"row_heading level0 row3\" >3</th>\n",
       "      <td id=\"T_ea239_row3_col0\" class=\"data row3 col0\" >3</td>\n",
       "      <td id=\"T_ea239_row3_col1\" class=\"data row3 col1\" >Chamassasya86</td>\n",
       "      <td id=\"T_ea239_row3_col2\" class=\"data row3 col2\" >24</td>\n",
       "      <td id=\"T_ea239_row3_col3\" class=\"data row3 col3\" >Male</td>\n",
       "      <td id=\"T_ea239_row3_col4\" class=\"data row3 col4\" >100</td>\n",
       "      <td id=\"T_ea239_row3_col5\" class=\"data row3 col5\" >Blindscythe</td>\n",
       "      <td id=\"T_ea239_row3_col6\" class=\"data row3 col6\" >$3.27</td>\n",
       "    </tr>\n",
       "    <tr>\n",
       "      <th id=\"T_ea239_level0_row4\" class=\"row_heading level0 row4\" >4</th>\n",
       "      <td id=\"T_ea239_row4_col0\" class=\"data row4 col0\" >4</td>\n",
       "      <td id=\"T_ea239_row4_col1\" class=\"data row4 col1\" >Iskosia90</td>\n",
       "      <td id=\"T_ea239_row4_col2\" class=\"data row4 col2\" >23</td>\n",
       "      <td id=\"T_ea239_row4_col3\" class=\"data row4 col3\" >Male</td>\n",
       "      <td id=\"T_ea239_row4_col4\" class=\"data row4 col4\" >131</td>\n",
       "      <td id=\"T_ea239_row4_col5\" class=\"data row4 col5\" >Fury</td>\n",
       "      <td id=\"T_ea239_row4_col6\" class=\"data row4 col6\" >$1.44</td>\n",
       "    </tr>\n",
       "  </tbody>\n",
       "</table>\n"
      ],
      "text/plain": [
       "<pandas.io.formats.style.Styler at 0x2baf2157388>"
      ]
     },
     "execution_count": 4,
     "metadata": {},
     "output_type": "execute_result"
    }
   ],
   "source": [
    "# Dependencies and Setup\n",
    "import pandas as pd\n",
    "\n",
    "file = \"Resources/purchase_data.csv\"\n",
    "\n",
    "# Read Purchasing File and store into Pandas data frame\n",
    "purchase_data_df = pd.read_csv(file)\n",
    "format_dict = {'Price':'${0:,.2f}'}\n",
    "purchase_data_df1= purchase_data_df.head()\n",
    "purchase_data_df1.style.format(format_dict)"
   ]
  },
  {
   "cell_type": "markdown",
   "metadata": {},
   "source": [
    "## Player Count"
   ]
  },
  {
   "cell_type": "markdown",
   "metadata": {},
   "source": [
    "* Display the total number of players\n"
   ]
  },
  {
   "cell_type": "code",
   "execution_count": 5,
   "metadata": {},
   "outputs": [
    {
     "data": {
      "text/html": [
       "<div>\n",
       "<style scoped>\n",
       "    .dataframe tbody tr th:only-of-type {\n",
       "        vertical-align: middle;\n",
       "    }\n",
       "\n",
       "    .dataframe tbody tr th {\n",
       "        vertical-align: top;\n",
       "    }\n",
       "\n",
       "    .dataframe thead th {\n",
       "        text-align: right;\n",
       "    }\n",
       "</style>\n",
       "<table border=\"1\" class=\"dataframe\">\n",
       "  <thead>\n",
       "    <tr style=\"text-align: right;\">\n",
       "      <th></th>\n",
       "      <th>Total number of Players</th>\n",
       "    </tr>\n",
       "  </thead>\n",
       "  <tbody>\n",
       "    <tr>\n",
       "      <th>0</th>\n",
       "      <td>576</td>\n",
       "    </tr>\n",
       "  </tbody>\n",
       "</table>\n",
       "</div>"
      ],
      "text/plain": [
       "   Total number of Players\n",
       "0                      576"
      ]
     },
     "metadata": {},
     "output_type": "display_data"
    }
   ],
   "source": [
    "\n",
    "n=purchase_data_df['SN'].nunique()\n",
    "dict= {\"Total number of Players\":[n]}\n",
    "    \n",
    "df= pd.DataFrame(dict)\n",
    "display(df)"
   ]
  },
  {
   "cell_type": "markdown",
   "metadata": {},
   "source": [
    "## Purchasing Analysis (Total)"
   ]
  },
  {
   "cell_type": "markdown",
   "metadata": {},
   "source": [
    "* Run basic calculations to obtain number of unique items, average price, etc.\n",
    "\n",
    "\n",
    "* Create a summary data frame to hold the results\n",
    "\n",
    "\n",
    "* Optional: give the displayed data cleaner formatting\n",
    "\n",
    "\n",
    "* Display the summary data frame\n"
   ]
  },
  {
   "cell_type": "code",
   "execution_count": 6,
   "metadata": {
    "scrolled": true
   },
   "outputs": [
    {
     "data": {
      "text/html": [
       "<style type=\"text/css\">\n",
       "</style>\n",
       "<table id=\"T_23573_\">\n",
       "  <thead>\n",
       "    <tr>\n",
       "      <th class=\"blank level0\" >&nbsp;</th>\n",
       "      <th class=\"col_heading level0 col0\" >Number of Unique Items</th>\n",
       "      <th class=\"col_heading level0 col1\" >Average Price</th>\n",
       "      <th class=\"col_heading level0 col2\" >Number of Purchases</th>\n",
       "      <th class=\"col_heading level0 col3\" >Total Revenue</th>\n",
       "    </tr>\n",
       "  </thead>\n",
       "  <tbody>\n",
       "    <tr>\n",
       "      <th id=\"T_23573_level0_row0\" class=\"row_heading level0 row0\" >0</th>\n",
       "      <td id=\"T_23573_row0_col0\" class=\"data row0 col0\" >179</td>\n",
       "      <td id=\"T_23573_row0_col1\" class=\"data row0 col1\" >$3.05</td>\n",
       "      <td id=\"T_23573_row0_col2\" class=\"data row0 col2\" >780</td>\n",
       "      <td id=\"T_23573_row0_col3\" class=\"data row0 col3\" >$2,379.77</td>\n",
       "    </tr>\n",
       "  </tbody>\n",
       "</table>\n"
      ],
      "text/plain": [
       "<pandas.io.formats.style.Styler at 0x2baf2126208>"
      ]
     },
     "metadata": {},
     "output_type": "display_data"
    }
   ],
   "source": [
    "u=purchase_data_df['Item Name'].nunique()\n",
    "a=purchase_data_df['Price'].mean()\n",
    "p=purchase_data_df['Purchase ID'].count()\n",
    "r=purchase_data_df['Price'].sum()\n",
    "dict={\"Number of Unique Items\":[u],\n",
    "      \"Average Price\":[a],\n",
    "     \"Number of Purchases\":[p],\n",
    "     \"Total Revenue\":[r]} \n",
    "format_dict = {'Average Price':'${0:,.2f}', 'Total Revenue':'${0:,.2f}'}\n",
    "Summary_data_df=pd.DataFrame(dict)\n",
    "display(Summary_data_df.style.format(format_dict))"
   ]
  },
  {
   "cell_type": "markdown",
   "metadata": {},
   "source": [
    "## Gender Demographics"
   ]
  },
  {
   "cell_type": "markdown",
   "metadata": {},
   "source": [
    "* Percentage and Count of Male Players\n",
    "\n",
    "\n",
    "* Percentage and Count of Female Players\n",
    "\n",
    "\n",
    "* Percentage and Count of Other / Non-Disclosed\n",
    "\n",
    "\n"
   ]
  },
  {
   "cell_type": "code",
   "execution_count": 7,
   "metadata": {},
   "outputs": [
    {
     "data": {
      "text/html": [
       "<div>\n",
       "<style scoped>\n",
       "    .dataframe tbody tr th:only-of-type {\n",
       "        vertical-align: middle;\n",
       "    }\n",
       "\n",
       "    .dataframe tbody tr th {\n",
       "        vertical-align: top;\n",
       "    }\n",
       "\n",
       "    .dataframe thead th {\n",
       "        text-align: right;\n",
       "    }\n",
       "</style>\n",
       "<table border=\"1\" class=\"dataframe\">\n",
       "  <thead>\n",
       "    <tr style=\"text-align: right;\">\n",
       "      <th></th>\n",
       "      <th>Total Counts</th>\n",
       "      <th>Percentage</th>\n",
       "    </tr>\n",
       "  </thead>\n",
       "  <tbody>\n",
       "    <tr>\n",
       "      <th>Male</th>\n",
       "      <td>484</td>\n",
       "      <td>84.03%</td>\n",
       "    </tr>\n",
       "    <tr>\n",
       "      <th>Female</th>\n",
       "      <td>81</td>\n",
       "      <td>14.06%</td>\n",
       "    </tr>\n",
       "    <tr>\n",
       "      <th>Other / Non-Disclosed</th>\n",
       "      <td>11</td>\n",
       "      <td>1.91%</td>\n",
       "    </tr>\n",
       "  </tbody>\n",
       "</table>\n",
       "</div>"
      ],
      "text/plain": [
       "                       Total Counts Percentage\n",
       "Male                            484     84.03%\n",
       "Female                           81     14.06%\n",
       "Other / Non-Disclosed            11      1.91%"
      ]
     },
     "execution_count": 7,
     "metadata": {},
     "output_type": "execute_result"
    }
   ],
   "source": [
    "SN_subset_df=purchase_data_df.drop_duplicates(subset=['SN'])\n",
    "g=SN_subset_df.Gender\n",
    "total_count=g.value_counts()\n",
    "percentage=g.value_counts(normalize=True).mul(100).round(2).astype(str) +'%'\n",
    "table1 = pd.DataFrame({'Total Counts':total_count,'Percentage':percentage})\n",
    "table1"
   ]
  },
  {
   "cell_type": "markdown",
   "metadata": {},
   "source": [
    "\n",
    "## Purchasing Analysis (Gender)"
   ]
  },
  {
   "cell_type": "markdown",
   "metadata": {},
   "source": [
    "* Run basic calculations to obtain purchase count, avg. purchase price, avg. purchase total per person etc. by gender\n",
    "\n",
    "\n",
    "\n",
    "\n",
    "* Create a summary data frame to hold the results\n",
    "\n",
    "\n",
    "* Optional: give the displayed data cleaner formatting\n",
    "\n",
    "\n",
    "* Display the summary data frame"
   ]
  },
  {
   "cell_type": "code",
   "execution_count": 8,
   "metadata": {},
   "outputs": [
    {
     "data": {
      "text/html": [
       "<style type=\"text/css\">\n",
       "</style>\n",
       "<table id=\"T_daf0d_\">\n",
       "  <thead>\n",
       "    <tr>\n",
       "      <th class=\"blank level0\" >&nbsp;</th>\n",
       "      <th class=\"col_heading level0 col0\" >Purchase Count</th>\n",
       "      <th class=\"col_heading level0 col1\" >Average Purchase Price</th>\n",
       "      <th class=\"col_heading level0 col2\" >Total Purchase Value</th>\n",
       "      <th class=\"col_heading level0 col3\" >Avg Total Purchase per Person</th>\n",
       "    </tr>\n",
       "    <tr>\n",
       "      <th class=\"index_name level0\" >Gender</th>\n",
       "      <th class=\"blank col0\" >&nbsp;</th>\n",
       "      <th class=\"blank col1\" >&nbsp;</th>\n",
       "      <th class=\"blank col2\" >&nbsp;</th>\n",
       "      <th class=\"blank col3\" >&nbsp;</th>\n",
       "    </tr>\n",
       "  </thead>\n",
       "  <tbody>\n",
       "    <tr>\n",
       "      <th id=\"T_daf0d_level0_row0\" class=\"row_heading level0 row0\" >Female</th>\n",
       "      <td id=\"T_daf0d_row0_col0\" class=\"data row0 col0\" >113</td>\n",
       "      <td id=\"T_daf0d_row0_col1\" class=\"data row0 col1\" >$3.20</td>\n",
       "      <td id=\"T_daf0d_row0_col2\" class=\"data row0 col2\" >$361.94</td>\n",
       "      <td id=\"T_daf0d_row0_col3\" class=\"data row0 col3\" >$4.47</td>\n",
       "    </tr>\n",
       "    <tr>\n",
       "      <th id=\"T_daf0d_level0_row1\" class=\"row_heading level0 row1\" >Males</th>\n",
       "      <td id=\"T_daf0d_row1_col0\" class=\"data row1 col0\" >652</td>\n",
       "      <td id=\"T_daf0d_row1_col1\" class=\"data row1 col1\" >$3.02</td>\n",
       "      <td id=\"T_daf0d_row1_col2\" class=\"data row1 col2\" >$1,967.64</td>\n",
       "      <td id=\"T_daf0d_row1_col3\" class=\"data row1 col3\" >$4.07</td>\n",
       "    </tr>\n",
       "    <tr>\n",
       "      <th id=\"T_daf0d_level0_row2\" class=\"row_heading level0 row2\" >Other/Non-Disclosed</th>\n",
       "      <td id=\"T_daf0d_row2_col0\" class=\"data row2 col0\" >15</td>\n",
       "      <td id=\"T_daf0d_row2_col1\" class=\"data row2 col1\" >$3.35</td>\n",
       "      <td id=\"T_daf0d_row2_col2\" class=\"data row2 col2\" >$50.19</td>\n",
       "      <td id=\"T_daf0d_row2_col3\" class=\"data row2 col3\" >$4.56</td>\n",
       "    </tr>\n",
       "  </tbody>\n",
       "</table>\n"
      ],
      "text/plain": [
       "<pandas.io.formats.style.Styler at 0x2baeed10708>"
      ]
     },
     "metadata": {},
     "output_type": "display_data"
    }
   ],
   "source": [
    "df_gender = purchase_data_df.groupby(\"Gender\")\n",
    "\n",
    "purchase_count = df_gender['Purchase ID'].count() \n",
    "avg_purchase_price = df_gender['Price'].mean()\n",
    "total_purchase_value = df_gender['Price'].sum()\n",
    "purchase_value_per_player = total_purchase_value / total_count\n",
    "\n",
    "summary_dict = ({'Gender':['Female','Males','Other/Non-Disclosed'],\"Purchase Count\":purchase_count,\"Average Purchase Price\": avg_purchase_price,\"Total Purchase Value\": total_purchase_value,\"Avg Total Purchase per Person\": purchase_value_per_player})\n",
    "format_dict = {'Average Purchase Price':'${0:,.2f}', 'Total Purchase Value':'${0:,.2f}','Avg Total Purchase per Person':'${0:,.2f}'}\n",
    "Summary_data1_df=pd.DataFrame(summary_dict)\n",
    "Summary_data2=Summary_data1_df.set_index('Gender')\n",
    "display(Summary_data2.style.format(format_dict))\n",
    "\n"
   ]
  },
  {
   "cell_type": "markdown",
   "metadata": {},
   "source": [
    "# * Establish bins for ages\n",
    "\n",
    "\n",
    "* Categorize the existing players using the age bins. Hint: use pd.cut()\n",
    "\n",
    "\n",
    "* Calculate the numbers and percentages by age group\n",
    "\n",
    "\n",
    "* Create a summary data frame to hold the results\n",
    "\n",
    "\n",
    "* Optional: round the percentage column to two decimal points\n",
    "\n",
    "\n",
    "* Display Age Demographics Table\n"
   ]
  },
  {
   "cell_type": "code",
   "execution_count": 9,
   "metadata": {},
   "outputs": [
    {
     "data": {
      "text/html": [
       "<div>\n",
       "<style scoped>\n",
       "    .dataframe tbody tr th:only-of-type {\n",
       "        vertical-align: middle;\n",
       "    }\n",
       "\n",
       "    .dataframe tbody tr th {\n",
       "        vertical-align: top;\n",
       "    }\n",
       "\n",
       "    .dataframe thead th {\n",
       "        text-align: right;\n",
       "    }\n",
       "</style>\n",
       "<table border=\"1\" class=\"dataframe\">\n",
       "  <thead>\n",
       "    <tr style=\"text-align: right;\">\n",
       "      <th></th>\n",
       "      <th>Total Count</th>\n",
       "      <th>Percentage of Players</th>\n",
       "    </tr>\n",
       "    <tr>\n",
       "      <th>Age groups</th>\n",
       "      <th></th>\n",
       "      <th></th>\n",
       "    </tr>\n",
       "  </thead>\n",
       "  <tbody>\n",
       "    <tr>\n",
       "      <th>&lt;10</th>\n",
       "      <td>17</td>\n",
       "      <td>2.95%</td>\n",
       "    </tr>\n",
       "    <tr>\n",
       "      <th>10-14</th>\n",
       "      <td>22</td>\n",
       "      <td>3.82%</td>\n",
       "    </tr>\n",
       "    <tr>\n",
       "      <th>15-19</th>\n",
       "      <td>107</td>\n",
       "      <td>18.58%</td>\n",
       "    </tr>\n",
       "    <tr>\n",
       "      <th>20-24</th>\n",
       "      <td>258</td>\n",
       "      <td>44.79%</td>\n",
       "    </tr>\n",
       "    <tr>\n",
       "      <th>25-29</th>\n",
       "      <td>77</td>\n",
       "      <td>13.37%</td>\n",
       "    </tr>\n",
       "    <tr>\n",
       "      <th>30-34</th>\n",
       "      <td>52</td>\n",
       "      <td>9.03%</td>\n",
       "    </tr>\n",
       "    <tr>\n",
       "      <th>35-39</th>\n",
       "      <td>31</td>\n",
       "      <td>5.38%</td>\n",
       "    </tr>\n",
       "    <tr>\n",
       "      <th>40+</th>\n",
       "      <td>12</td>\n",
       "      <td>2.08%</td>\n",
       "    </tr>\n",
       "  </tbody>\n",
       "</table>\n",
       "</div>"
      ],
      "text/plain": [
       "            Total Count Percentage of Players\n",
       "Age groups                                   \n",
       "<10                  17                 2.95%\n",
       "10-14                22                 3.82%\n",
       "15-19               107                18.58%\n",
       "20-24               258                44.79%\n",
       "25-29                77                13.37%\n",
       "30-34                52                 9.03%\n",
       "35-39                31                 5.38%\n",
       "40+                  12                 2.08%"
      ]
     },
     "execution_count": 9,
     "metadata": {},
     "output_type": "execute_result"
    }
   ],
   "source": [
    "bins = [0, 9, 14, 19, 24, 29, 34, 39, 100]\n",
    "bin_labels = ['<10', '10-14', '15-19', '20-24', '25-29', '30-34', '35-39', '40+']\n",
    "\n",
    "purchase_data_df[\"Age groups\"] = pd.cut(purchase_data_df[\"Age\"], bins, labels=bin_labels)\n",
    "df_age1 = purchase_data_df[['Age groups','SN']].drop_duplicates(subset = 'SN')\n",
    "\n",
    "age_demographics_summary = df_age1.groupby(\"Age groups\").count()\n",
    "age_counts = age_demographics_summary['SN']\n",
    "age_demographics_percentages = round(age_counts / 576 * 100, 2).astype(str) + '%'\n",
    "\n",
    "\n",
    "summary_data_fr = pd.DataFrame({'Total Count':age_counts,'Percentage of Players': age_demographics_percentages})\n",
    "\n",
    "summary_data_fr\n",
    "\n"
   ]
  },
  {
   "cell_type": "markdown",
   "metadata": {},
   "source": [
    "## Purchasing Analysis (Age)"
   ]
  },
  {
   "cell_type": "markdown",
   "metadata": {},
   "source": [
    "* Bin the purchase_data data frame by age\n",
    "\n",
    "\n",
    "* Run basic calculations to obtain purchase count, avg. purchase price, avg. purchase total per person etc. in the table below\n",
    "\n",
    "\n",
    "* Create a summary data frame to hold the results\n",
    "\n",
    "\n",
    "* Optional: give the displayed data cleaner formatting\n",
    "\n",
    "\n",
    "* Display the summary data frame"
   ]
  },
  {
   "cell_type": "code",
   "execution_count": 10,
   "metadata": {},
   "outputs": [
    {
     "data": {
      "text/html": [
       "<style type=\"text/css\">\n",
       "</style>\n",
       "<table id=\"T_13ab0_\">\n",
       "  <thead>\n",
       "    <tr>\n",
       "      <th class=\"blank level0\" >&nbsp;</th>\n",
       "      <th class=\"col_heading level0 col0\" >Purchase Count</th>\n",
       "      <th class=\"col_heading level0 col1\" >Average Purchase Price</th>\n",
       "      <th class=\"col_heading level0 col2\" >Total Purchase Value</th>\n",
       "      <th class=\"col_heading level0 col3\" >Avg Total Purchase per Person</th>\n",
       "    </tr>\n",
       "    <tr>\n",
       "      <th class=\"index_name level0\" >Age groups</th>\n",
       "      <th class=\"blank col0\" >&nbsp;</th>\n",
       "      <th class=\"blank col1\" >&nbsp;</th>\n",
       "      <th class=\"blank col2\" >&nbsp;</th>\n",
       "      <th class=\"blank col3\" >&nbsp;</th>\n",
       "    </tr>\n",
       "  </thead>\n",
       "  <tbody>\n",
       "    <tr>\n",
       "      <th id=\"T_13ab0_level0_row0\" class=\"row_heading level0 row0\" ><10</th>\n",
       "      <td id=\"T_13ab0_row0_col0\" class=\"data row0 col0\" >23</td>\n",
       "      <td id=\"T_13ab0_row0_col1\" class=\"data row0 col1\" >$3.35</td>\n",
       "      <td id=\"T_13ab0_row0_col2\" class=\"data row0 col2\" >$77.13</td>\n",
       "      <td id=\"T_13ab0_row0_col3\" class=\"data row0 col3\" >$4.54</td>\n",
       "    </tr>\n",
       "    <tr>\n",
       "      <th id=\"T_13ab0_level0_row1\" class=\"row_heading level0 row1\" >10-14</th>\n",
       "      <td id=\"T_13ab0_row1_col0\" class=\"data row1 col0\" >28</td>\n",
       "      <td id=\"T_13ab0_row1_col1\" class=\"data row1 col1\" >$2.96</td>\n",
       "      <td id=\"T_13ab0_row1_col2\" class=\"data row1 col2\" >$82.78</td>\n",
       "      <td id=\"T_13ab0_row1_col3\" class=\"data row1 col3\" >$3.76</td>\n",
       "    </tr>\n",
       "    <tr>\n",
       "      <th id=\"T_13ab0_level0_row2\" class=\"row_heading level0 row2\" >15-19</th>\n",
       "      <td id=\"T_13ab0_row2_col0\" class=\"data row2 col0\" >136</td>\n",
       "      <td id=\"T_13ab0_row2_col1\" class=\"data row2 col1\" >$3.04</td>\n",
       "      <td id=\"T_13ab0_row2_col2\" class=\"data row2 col2\" >$412.89</td>\n",
       "      <td id=\"T_13ab0_row2_col3\" class=\"data row2 col3\" >$3.86</td>\n",
       "    </tr>\n",
       "    <tr>\n",
       "      <th id=\"T_13ab0_level0_row3\" class=\"row_heading level0 row3\" >20-24</th>\n",
       "      <td id=\"T_13ab0_row3_col0\" class=\"data row3 col0\" >365</td>\n",
       "      <td id=\"T_13ab0_row3_col1\" class=\"data row3 col1\" >$3.05</td>\n",
       "      <td id=\"T_13ab0_row3_col2\" class=\"data row3 col2\" >$1,114.06</td>\n",
       "      <td id=\"T_13ab0_row3_col3\" class=\"data row3 col3\" >$4.32</td>\n",
       "    </tr>\n",
       "    <tr>\n",
       "      <th id=\"T_13ab0_level0_row4\" class=\"row_heading level0 row4\" >25-29</th>\n",
       "      <td id=\"T_13ab0_row4_col0\" class=\"data row4 col0\" >101</td>\n",
       "      <td id=\"T_13ab0_row4_col1\" class=\"data row4 col1\" >$2.90</td>\n",
       "      <td id=\"T_13ab0_row4_col2\" class=\"data row4 col2\" >$293.00</td>\n",
       "      <td id=\"T_13ab0_row4_col3\" class=\"data row4 col3\" >$3.81</td>\n",
       "    </tr>\n",
       "    <tr>\n",
       "      <th id=\"T_13ab0_level0_row5\" class=\"row_heading level0 row5\" >30-34</th>\n",
       "      <td id=\"T_13ab0_row5_col0\" class=\"data row5 col0\" >73</td>\n",
       "      <td id=\"T_13ab0_row5_col1\" class=\"data row5 col1\" >$2.93</td>\n",
       "      <td id=\"T_13ab0_row5_col2\" class=\"data row5 col2\" >$214.00</td>\n",
       "      <td id=\"T_13ab0_row5_col3\" class=\"data row5 col3\" >$4.12</td>\n",
       "    </tr>\n",
       "    <tr>\n",
       "      <th id=\"T_13ab0_level0_row6\" class=\"row_heading level0 row6\" >35-39</th>\n",
       "      <td id=\"T_13ab0_row6_col0\" class=\"data row6 col0\" >41</td>\n",
       "      <td id=\"T_13ab0_row6_col1\" class=\"data row6 col1\" >$3.60</td>\n",
       "      <td id=\"T_13ab0_row6_col2\" class=\"data row6 col2\" >$147.67</td>\n",
       "      <td id=\"T_13ab0_row6_col3\" class=\"data row6 col3\" >$4.76</td>\n",
       "    </tr>\n",
       "    <tr>\n",
       "      <th id=\"T_13ab0_level0_row7\" class=\"row_heading level0 row7\" >40+</th>\n",
       "      <td id=\"T_13ab0_row7_col0\" class=\"data row7 col0\" >13</td>\n",
       "      <td id=\"T_13ab0_row7_col1\" class=\"data row7 col1\" >$2.94</td>\n",
       "      <td id=\"T_13ab0_row7_col2\" class=\"data row7 col2\" >$38.24</td>\n",
       "      <td id=\"T_13ab0_row7_col3\" class=\"data row7 col3\" >$3.19</td>\n",
       "    </tr>\n",
       "  </tbody>\n",
       "</table>\n"
      ],
      "text/plain": [
       "<pandas.io.formats.style.Styler at 0x2baf2264bc8>"
      ]
     },
     "metadata": {},
     "output_type": "display_data"
    }
   ],
   "source": [
    "bins = [0, 9, 14, 19, 24, 29, 34, 39, 150]\n",
    "bin_labels = ['<10', '10-14', '15-19', '20-24', '25-29', '30-34', '35-39', '40+']\n",
    "\n",
    "purchase_data_df[\"Age groups\"] = pd.cut(purchase_data_df[\"Age\"], bins, labels=bin_labels)\n",
    "\n",
    "less_rows = purchase_data_df[['Age groups','SN', 'Price']]\n",
    "\n",
    "less_rows_grouped = less_rows.groupby('Age groups')\n",
    "purchase_counts = less_rows_grouped['Price'].count()\n",
    "average_prices = less_rows_grouped['Price'].mean()\n",
    "total_spent = less_rows_grouped['Price'].sum()\n",
    "spending_per_person = total_spent/age_counts\n",
    "\n",
    "Age_sum_dict=({'Purchase Count':purchase_counts,'Average Purchase Price': average_prices,'Total Purchase Value': total_spent,'Avg Total Purchase per Person': spending_per_person})\n",
    "format_dict = {'Average Purchase Price':'${0:,.2f}', 'Total Purchase Value':'${0:,.2f}','Avg Total Purchase per Person':'${0:,.2f}'}\n",
    "summary_data_fr1 = pd.DataFrame(Age_sum_dict)\n",
    "display(summary_data_fr1.style.format(format_dict))\n"
   ]
  },
  {
   "cell_type": "markdown",
   "metadata": {},
   "source": [
    "## Top Spenders"
   ]
  },
  {
   "cell_type": "markdown",
   "metadata": {},
   "source": [
    "* Run basic calculations to obtain the results in the table below\n",
    "\n",
    "\n",
    "* Create a summary data frame to hold the results\n",
    "\n",
    "\n",
    "* Sort the total purchase value column in descending order\n",
    "\n",
    "\n",
    "* Optional: give the displayed data cleaner formatting\n",
    "\n",
    "\n",
    "* Display a preview of the summary data frame\n",
    "\n"
   ]
  },
  {
   "cell_type": "code",
   "execution_count": 12,
   "metadata": {},
   "outputs": [
    {
     "data": {
      "text/html": [
       "<style type=\"text/css\">\n",
       "</style>\n",
       "<table id=\"T_d3c02_\">\n",
       "  <thead>\n",
       "    <tr>\n",
       "      <th class=\"blank level0\" >&nbsp;</th>\n",
       "      <th class=\"col_heading level0 col0\" >SN</th>\n",
       "      <th class=\"col_heading level0 col1\" >Purchase Count</th>\n",
       "      <th class=\"col_heading level0 col2\" >Average Purchase Price</th>\n",
       "      <th class=\"col_heading level0 col3\" >Total Purchase Value</th>\n",
       "    </tr>\n",
       "  </thead>\n",
       "  <tbody>\n",
       "    <tr>\n",
       "      <th id=\"T_d3c02_level0_row0\" class=\"row_heading level0 row0\" >0</th>\n",
       "      <td id=\"T_d3c02_row0_col0\" class=\"data row0 col0\" >Lisosia93</td>\n",
       "      <td id=\"T_d3c02_row0_col1\" class=\"data row0 col1\" >5</td>\n",
       "      <td id=\"T_d3c02_row0_col2\" class=\"data row0 col2\" >$3.79</td>\n",
       "      <td id=\"T_d3c02_row0_col3\" class=\"data row0 col3\" >$18.96</td>\n",
       "    </tr>\n",
       "    <tr>\n",
       "      <th id=\"T_d3c02_level0_row1\" class=\"row_heading level0 row1\" >1</th>\n",
       "      <td id=\"T_d3c02_row1_col0\" class=\"data row1 col0\" >Idastidru52</td>\n",
       "      <td id=\"T_d3c02_row1_col1\" class=\"data row1 col1\" >4</td>\n",
       "      <td id=\"T_d3c02_row1_col2\" class=\"data row1 col2\" >$3.86</td>\n",
       "      <td id=\"T_d3c02_row1_col3\" class=\"data row1 col3\" >$15.45</td>\n",
       "    </tr>\n",
       "    <tr>\n",
       "      <th id=\"T_d3c02_level0_row2\" class=\"row_heading level0 row2\" >2</th>\n",
       "      <td id=\"T_d3c02_row2_col0\" class=\"data row2 col0\" >Chamjask73</td>\n",
       "      <td id=\"T_d3c02_row2_col1\" class=\"data row2 col1\" >3</td>\n",
       "      <td id=\"T_d3c02_row2_col2\" class=\"data row2 col2\" >$4.61</td>\n",
       "      <td id=\"T_d3c02_row2_col3\" class=\"data row2 col3\" >$13.83</td>\n",
       "    </tr>\n",
       "    <tr>\n",
       "      <th id=\"T_d3c02_level0_row3\" class=\"row_heading level0 row3\" >3</th>\n",
       "      <td id=\"T_d3c02_row3_col0\" class=\"data row3 col0\" >Iral74</td>\n",
       "      <td id=\"T_d3c02_row3_col1\" class=\"data row3 col1\" >4</td>\n",
       "      <td id=\"T_d3c02_row3_col2\" class=\"data row3 col2\" >$3.41</td>\n",
       "      <td id=\"T_d3c02_row3_col3\" class=\"data row3 col3\" >$13.62</td>\n",
       "    </tr>\n",
       "    <tr>\n",
       "      <th id=\"T_d3c02_level0_row4\" class=\"row_heading level0 row4\" >4</th>\n",
       "      <td id=\"T_d3c02_row4_col0\" class=\"data row4 col0\" >Iskadarya95</td>\n",
       "      <td id=\"T_d3c02_row4_col1\" class=\"data row4 col1\" >3</td>\n",
       "      <td id=\"T_d3c02_row4_col2\" class=\"data row4 col2\" >$4.37</td>\n",
       "      <td id=\"T_d3c02_row4_col3\" class=\"data row4 col3\" >$13.10</td>\n",
       "    </tr>\n",
       "  </tbody>\n",
       "</table>\n"
      ],
      "text/plain": [
       "<pandas.io.formats.style.Styler at 0x2baf22ce5c8>"
      ]
     },
     "execution_count": 12,
     "metadata": {},
     "output_type": "execute_result"
    }
   ],
   "source": [
    "\n",
    "sn_df = purchase_data_df.groupby('SN')\n",
    "purchase_counts = sn_df['Gender'].count()\n",
    "average_spending = sn_df['Price'].mean()\n",
    "total_purchase = sn_df['Price'].sum()\n",
    "\n",
    "summary1_dict = ({'Purchase Count': purchase_counts, 'Average Purchase Price':average_spending,'Total Purchase Value': total_purchase})\n",
    "format_dict = {'Average Purchase Price':'${0:,.2f}', 'Total Purchase Value':'${0:,.2f}'}\n",
    "summary2 =pd.DataFrame(summary1_dict).sort_values('Total Purchase Value', ascending=False).reset_index().head()\n",
    "summary3= summary2.style.format(format_dict)\n",
    "\n",
    "summary3\n"
   ]
  },
  {
   "cell_type": "markdown",
   "metadata": {},
   "source": [
    "## Most Popular Items"
   ]
  },
  {
   "cell_type": "markdown",
   "metadata": {},
   "source": [
    "* Retrieve the Item ID, Item Name, and Item Price columns\n",
    "\n",
    "\n",
    "* Group by Item ID and Item Name. Perform calculations to obtain purchase count, item price, and total purchase value\n",
    "\n",
    "\n",
    "* Create a summary data frame to hold the results\n",
    "\n",
    "\n",
    "* Sort the purchase count column in descending order\n",
    "\n",
    "\n",
    "* Optional: give the displayed data cleaner formatting\n",
    "\n",
    "\n",
    "* Display a preview of the summary data frame\n",
    "\n"
   ]
  },
  {
   "cell_type": "code",
   "execution_count": 23,
   "metadata": {},
   "outputs": [
    {
     "data": {
      "text/html": [
       "<style type=\"text/css\">\n",
       "</style>\n",
       "<table id=\"T_0a149_\">\n",
       "  <thead>\n",
       "    <tr>\n",
       "      <th class=\"blank\" >&nbsp;</th>\n",
       "      <th class=\"blank level0\" >&nbsp;</th>\n",
       "      <th class=\"col_heading level0 col0\" >Purchase Count</th>\n",
       "      <th class=\"col_heading level0 col1\" >Item Price</th>\n",
       "      <th class=\"col_heading level0 col2\" >Total Purchase Value</th>\n",
       "    </tr>\n",
       "    <tr>\n",
       "      <th class=\"index_name level0\" >Item ID</th>\n",
       "      <th class=\"index_name level1\" >Item Name</th>\n",
       "      <th class=\"blank col0\" >&nbsp;</th>\n",
       "      <th class=\"blank col1\" >&nbsp;</th>\n",
       "      <th class=\"blank col2\" >&nbsp;</th>\n",
       "    </tr>\n",
       "  </thead>\n",
       "  <tbody>\n",
       "    <tr>\n",
       "      <th id=\"T_0a149_level0_row0\" class=\"row_heading level0 row0\" >92</th>\n",
       "      <th id=\"T_0a149_level1_row0\" class=\"row_heading level1 row0\" >Final Critic</th>\n",
       "      <td id=\"T_0a149_row0_col0\" class=\"data row0 col0\" >13</td>\n",
       "      <td id=\"T_0a149_row0_col1\" class=\"data row0 col1\" >$4.61</td>\n",
       "      <td id=\"T_0a149_row0_col2\" class=\"data row0 col2\" >$59.99</td>\n",
       "    </tr>\n",
       "    <tr>\n",
       "      <th id=\"T_0a149_level0_row1\" class=\"row_heading level0 row1\" >178</th>\n",
       "      <th id=\"T_0a149_level1_row1\" class=\"row_heading level1 row1\" >Oathbreaker, Last Hope of the Breaking Storm</th>\n",
       "      <td id=\"T_0a149_row1_col0\" class=\"data row1 col0\" >12</td>\n",
       "      <td id=\"T_0a149_row1_col1\" class=\"data row1 col1\" >$4.23</td>\n",
       "      <td id=\"T_0a149_row1_col2\" class=\"data row1 col2\" >$50.76</td>\n",
       "    </tr>\n",
       "    <tr>\n",
       "      <th id=\"T_0a149_level0_row2\" class=\"row_heading level0 row2\" >145</th>\n",
       "      <th id=\"T_0a149_level1_row2\" class=\"row_heading level1 row2\" >Fiery Glass Crusader</th>\n",
       "      <td id=\"T_0a149_row2_col0\" class=\"data row2 col0\" >9</td>\n",
       "      <td id=\"T_0a149_row2_col1\" class=\"data row2 col1\" >$4.58</td>\n",
       "      <td id=\"T_0a149_row2_col2\" class=\"data row2 col2\" >$41.22</td>\n",
       "    </tr>\n",
       "    <tr>\n",
       "      <th id=\"T_0a149_level0_row3\" class=\"row_heading level0 row3\" >132</th>\n",
       "      <th id=\"T_0a149_level1_row3\" class=\"row_heading level1 row3\" >Persuasion</th>\n",
       "      <td id=\"T_0a149_row3_col0\" class=\"data row3 col0\" >9</td>\n",
       "      <td id=\"T_0a149_row3_col1\" class=\"data row3 col1\" >$3.22</td>\n",
       "      <td id=\"T_0a149_row3_col2\" class=\"data row3 col2\" >$28.99</td>\n",
       "    </tr>\n",
       "    <tr>\n",
       "      <th id=\"T_0a149_level0_row4\" class=\"row_heading level0 row4\" >108</th>\n",
       "      <th id=\"T_0a149_level1_row4\" class=\"row_heading level1 row4\" >Extraction, Quickblade Of Trembling Hands</th>\n",
       "      <td id=\"T_0a149_row4_col0\" class=\"data row4 col0\" >9</td>\n",
       "      <td id=\"T_0a149_row4_col1\" class=\"data row4 col1\" >$3.53</td>\n",
       "      <td id=\"T_0a149_row4_col2\" class=\"data row4 col2\" >$31.77</td>\n",
       "    </tr>\n",
       "  </tbody>\n",
       "</table>\n"
      ],
      "text/plain": [
       "<pandas.io.formats.style.Styler at 0x2baf21e6a48>"
      ]
     },
     "execution_count": 23,
     "metadata": {},
     "output_type": "execute_result"
    }
   ],
   "source": [
    "df_Item = purchase_data_df.groupby(['Item ID', 'Item Name'])\n",
    "purchase_counts2 = df_Item['Gender'].count()\n",
    "average_spending2 = round(df_Item['Price'].mean(),2)\n",
    "total_purchase2 = round(df_Item['Price'].sum(),2)\n",
    "\n",
    "summary4_dict = ({'Purchase Count':purchase_counts2,'Item Price': average_spending2,'Total Purchase Value': total_purchase2})\n",
    "format_dict = {'Item Price':'${0:,.2f}', 'Total Purchase Value':'${0:,.2f}'}\n",
    "\n",
    "summary5 =pd.DataFrame(summary4_dict)\n",
    "Summary6=summary5.sort_values('Purchase Count', ascending=False).head()\n",
    "summary7= Summary6.style.format(format_dict)\n",
    "summary7"
   ]
  },
  {
   "cell_type": "markdown",
   "metadata": {},
   "source": [
    "## Most Profitable Items"
   ]
  },
  {
   "cell_type": "markdown",
   "metadata": {},
   "source": [
    "* Sort the above table by total purchase value in descending order\n",
    "\n",
    "\n",
    "* Optional: give the displayed data cleaner formatting\n",
    "\n",
    "\n",
    "* Display a preview of the data frame\n",
    "\n"
   ]
  },
  {
   "cell_type": "code",
   "execution_count": 24,
   "metadata": {
    "scrolled": true
   },
   "outputs": [
    {
     "data": {
      "text/html": [
       "<style type=\"text/css\">\n",
       "</style>\n",
       "<table id=\"T_71cd1_\">\n",
       "  <thead>\n",
       "    <tr>\n",
       "      <th class=\"blank\" >&nbsp;</th>\n",
       "      <th class=\"blank level0\" >&nbsp;</th>\n",
       "      <th class=\"col_heading level0 col0\" >Purchase Count</th>\n",
       "      <th class=\"col_heading level0 col1\" >Item Price</th>\n",
       "      <th class=\"col_heading level0 col2\" >Total Purchase Value</th>\n",
       "    </tr>\n",
       "    <tr>\n",
       "      <th class=\"index_name level0\" >Item ID</th>\n",
       "      <th class=\"index_name level1\" >Item Name</th>\n",
       "      <th class=\"blank col0\" >&nbsp;</th>\n",
       "      <th class=\"blank col1\" >&nbsp;</th>\n",
       "      <th class=\"blank col2\" >&nbsp;</th>\n",
       "    </tr>\n",
       "  </thead>\n",
       "  <tbody>\n",
       "    <tr>\n",
       "      <th id=\"T_71cd1_level0_row0\" class=\"row_heading level0 row0\" >92</th>\n",
       "      <th id=\"T_71cd1_level1_row0\" class=\"row_heading level1 row0\" >Final Critic</th>\n",
       "      <td id=\"T_71cd1_row0_col0\" class=\"data row0 col0\" >13</td>\n",
       "      <td id=\"T_71cd1_row0_col1\" class=\"data row0 col1\" >$4.61</td>\n",
       "      <td id=\"T_71cd1_row0_col2\" class=\"data row0 col2\" >$59.99</td>\n",
       "    </tr>\n",
       "    <tr>\n",
       "      <th id=\"T_71cd1_level0_row1\" class=\"row_heading level0 row1\" >178</th>\n",
       "      <th id=\"T_71cd1_level1_row1\" class=\"row_heading level1 row1\" >Oathbreaker, Last Hope of the Breaking Storm</th>\n",
       "      <td id=\"T_71cd1_row1_col0\" class=\"data row1 col0\" >12</td>\n",
       "      <td id=\"T_71cd1_row1_col1\" class=\"data row1 col1\" >$4.23</td>\n",
       "      <td id=\"T_71cd1_row1_col2\" class=\"data row1 col2\" >$50.76</td>\n",
       "    </tr>\n",
       "    <tr>\n",
       "      <th id=\"T_71cd1_level0_row2\" class=\"row_heading level0 row2\" >82</th>\n",
       "      <th id=\"T_71cd1_level1_row2\" class=\"row_heading level1 row2\" >Nirvana</th>\n",
       "      <td id=\"T_71cd1_row2_col0\" class=\"data row2 col0\" >9</td>\n",
       "      <td id=\"T_71cd1_row2_col1\" class=\"data row2 col1\" >$4.90</td>\n",
       "      <td id=\"T_71cd1_row2_col2\" class=\"data row2 col2\" >$44.10</td>\n",
       "    </tr>\n",
       "    <tr>\n",
       "      <th id=\"T_71cd1_level0_row3\" class=\"row_heading level0 row3\" >145</th>\n",
       "      <th id=\"T_71cd1_level1_row3\" class=\"row_heading level1 row3\" >Fiery Glass Crusader</th>\n",
       "      <td id=\"T_71cd1_row3_col0\" class=\"data row3 col0\" >9</td>\n",
       "      <td id=\"T_71cd1_row3_col1\" class=\"data row3 col1\" >$4.58</td>\n",
       "      <td id=\"T_71cd1_row3_col2\" class=\"data row3 col2\" >$41.22</td>\n",
       "    </tr>\n",
       "    <tr>\n",
       "      <th id=\"T_71cd1_level0_row4\" class=\"row_heading level0 row4\" >103</th>\n",
       "      <th id=\"T_71cd1_level1_row4\" class=\"row_heading level1 row4\" >Singed Scalpel</th>\n",
       "      <td id=\"T_71cd1_row4_col0\" class=\"data row4 col0\" >8</td>\n",
       "      <td id=\"T_71cd1_row4_col1\" class=\"data row4 col1\" >$4.35</td>\n",
       "      <td id=\"T_71cd1_row4_col2\" class=\"data row4 col2\" >$34.80</td>\n",
       "    </tr>\n",
       "  </tbody>\n",
       "</table>\n"
      ],
      "text/plain": [
       "<pandas.io.formats.style.Styler at 0x2baf2379208>"
      ]
     },
     "execution_count": 24,
     "metadata": {},
     "output_type": "execute_result"
    }
   ],
   "source": [
    "\n",
    "format_dict = {'Item Price':'${0:,.2f}', 'Total Purchase Value':'${0:,.2f}'}\n",
    "summary8=summary5.sort_values('Total Purchase Value', ascending=False).head()\n",
    "summary8.style.format(format_dict)"
   ]
  },
  {
   "cell_type": "code",
   "execution_count": null,
   "metadata": {},
   "outputs": [],
   "source": []
  },
  {
   "cell_type": "code",
   "execution_count": null,
   "metadata": {},
   "outputs": [],
   "source": []
  }
 ],
 "metadata": {
  "anaconda-cloud": {},
  "interpreter": {
   "hash": "5b49a2cc7901a64b87b528027f3791aba9aff60f7eff11279390de2e55956293"
  },
  "kernel_info": {
   "name": "python3"
  },
  "kernelspec": {
   "display_name": "Python 3.7.13 ('bootcamp')",
   "language": "python",
   "name": "python3"
  },
  "language_info": {
   "codemirror_mode": {
    "name": "ipython",
    "version": 3
   },
   "file_extension": ".py",
   "mimetype": "text/x-python",
   "name": "python",
   "nbconvert_exporter": "python",
   "pygments_lexer": "ipython3",
   "version": "3.7.13"
  },
  "latex_envs": {
   "LaTeX_envs_menu_present": true,
   "autoclose": false,
   "autocomplete": true,
   "bibliofile": "biblio.bib",
   "cite_by": "apalike",
   "current_citInitial": 1,
   "eqLabelWithNumbers": true,
   "eqNumInitial": 1,
   "hotkeys": {
    "equation": "Ctrl-E",
    "itemize": "Ctrl-I"
   },
   "labels_anchors": false,
   "latex_user_defs": false,
   "report_style_numbering": false,
   "user_envs_cfg": false
  },
  "nteract": {
   "version": "0.2.0"
  }
 },
 "nbformat": 4,
 "nbformat_minor": 2
}
